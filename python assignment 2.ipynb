{
 "cells": [
  {
   "cell_type": "markdown",
   "id": "f4fa52bd",
   "metadata": {},
   "source": [
    "# variavls \n"
   ]
  },
  {
   "cell_type": "code",
   "execution_count": null,
   "id": "a090b00d",
   "metadata": {},
   "outputs": [],
   "source": []
  },
  {
   "cell_type": "markdown",
   "id": "a23e8f71",
   "metadata": {},
   "source": [
    "1. Write a program that swaps the values of two variables."
   ]
  },
  {
   "cell_type": "code",
   "execution_count": 2,
   "id": "64ff6bc3",
   "metadata": {},
   "outputs": [
    {
     "name": "stdout",
     "output_type": "stream",
     "text": [
      "the value of temp variabal is  15\n",
      "the value of x is 20\n",
      " the value of y is 15\n"
     ]
    }
   ],
   "source": [
    "x = 15\n",
    "y = 20\n",
    "temp = x\n",
    "print('the value of temp variabal is ', temp)\n",
    "x = y \n",
    "print('the value of x is', x)\n",
    "y = temp \n",
    "print(' the value of y is',y)"
   ]
  },
  {
   "cell_type": "code",
   "execution_count": 3,
   "id": "e34983df",
   "metadata": {},
   "outputs": [
    {
     "name": "stdout",
     "output_type": "stream",
     "text": [
      "the value of x 13\n",
      "the value of y 12\n"
     ]
    }
   ],
   "source": [
    "x=12\n",
    "y=13\n",
    "x,y=y,x\n",
    "print('the value of x',x)\n",
    "print('the value of y', y)"
   ]
  },
  {
   "cell_type": "markdown",
   "id": "01a4a78b",
   "metadata": {},
   "source": [
    "2. Write a program that calculates the area of a rectangle given its length and width."
   ]
  },
  {
   "cell_type": "code",
   "execution_count": 5,
   "id": "ab449b9a",
   "metadata": {},
   "outputs": [
    {
     "name": "stdout",
     "output_type": "stream",
     "text": [
      "Area of rectangle=700\n"
     ]
    }
   ],
   "source": [
    "width=20  \n",
    "height=35 \n",
    "area=width*height  \n",
    "print(\"Area of rectangle=\"+str(area))  "
   ]
  },
  {
   "cell_type": "markdown",
   "id": "be2b8240",
   "metadata": {},
   "source": [
    "3. Write a program that converts temperature from Fahrenheit to Celsius."
   ]
  },
  {
   "cell_type": "code",
   "execution_count": 8,
   "id": "c145e037",
   "metadata": {},
   "outputs": [
    {
     "name": "stdout",
     "output_type": "stream",
     "text": [
      "inter temprature in celcious: 40\n",
      "the converted value is 104.0 F\n"
     ]
    }
   ],
   "source": [
    "C =int(input('inter temprature in celcious: '))\n",
    "F =(C *(9/5))+32\n",
    "print('the converted value is',F ,'F')"
   ]
  },
  {
   "cell_type": "markdown",
   "id": "fad47c75",
   "metadata": {},
   "source": [
    "4. Write a program that calculates the volume of a sphere given its radius."
   ]
  },
  {
   "cell_type": "code",
   "execution_count": 10,
   "id": "f7fa7d0c",
   "metadata": {},
   "outputs": [
    {
     "name": "stdout",
     "output_type": "stream",
     "text": [
      "radious:40\n",
      "volume of the sphere=268190.47619072\n"
     ]
    }
   ],
   "source": [
    "radius= int (input('radious:'))\n",
    "pie=3.14285714286  \n",
    "volume=(4/3)*pie*(radius ** 3)  \n",
    "print(\"volume of the sphere=\"+str(volume))  "
   ]
  },
  {
   "cell_type": "markdown",
   "id": "d81d5644",
   "metadata": {},
   "source": [
    "5. Write a program that finds the average of three numbers."
   ]
  },
  {
   "cell_type": "code",
   "execution_count": 11,
   "id": "34c1b5bd",
   "metadata": {},
   "outputs": [
    {
     "name": "stdout",
     "output_type": "stream",
     "text": [
      "The average of numbers = 7.33\n"
     ]
    }
   ],
   "source": [
    "num1 = 3\n",
    "num2 = 5\n",
    "num3 = 14\n",
    "\n",
    "avg = (num1 + num2 + num3)/3\n",
    "\n",
    "print('The average of numbers = %0.2f' %avg)"
   ]
  },
  {
   "cell_type": "markdown",
   "id": "baec2343",
   "metadata": {},
   "source": [
    "# If-elif-else"
   ]
  },
  {
   "cell_type": "markdown",
   "id": "b057c8a8",
   "metadata": {},
   "source": [
    "6. Write a program that determines if a number is even or odd."
   ]
  },
  {
   "cell_type": "code",
   "execution_count": 1,
   "id": "f47bdf2d",
   "metadata": {},
   "outputs": [
    {
     "name": "stdout",
     "output_type": "stream",
     "text": [
      "Enter a number: 5\n",
      "5 is Odd number\n"
     ]
    }
   ],
   "source": [
    "num = int(input(\"Enter a number: \"))  \n",
    "if (num % 2) == 0:  \n",
    "   print(\"{0} is Even number\".format(num))  \n",
    "else:  \n",
    "   print(\"{0} is Odd number\".format(num))  "
   ]
  },
  {
   "cell_type": "code",
   "execution_count": 2,
   "id": "c32c53bc",
   "metadata": {},
   "outputs": [
    {
     "name": "stdout",
     "output_type": "stream",
     "text": [
      "Enter a number: 10\n",
      "10 is Even number\n"
     ]
    }
   ],
   "source": [
    "num = int(input(\"Enter a number: \"))  \n",
    "if (num % 2) == 0:  \n",
    "   print(\"{0} is Even number\".format(num))  \n",
    "else:  \n",
    "   print(\"{0} is Odd number\".format(num))  "
   ]
  },
  {
   "cell_type": "markdown",
   "id": "ab702061",
   "metadata": {},
   "source": [
    "7. Write a program that finds the maximum of three numbers."
   ]
  },
  {
   "cell_type": "code",
   "execution_count": 5,
   "id": "59c2dcbe",
   "metadata": {},
   "outputs": [
    {
     "name": "stdout",
     "output_type": "stream",
     "text": [
      "enter a number:25\n",
      "enter a number:55\n",
      "inter a number:125\n",
      "125 in the maximum number\n"
     ]
    }
   ],
   "source": [
    "num1 = int (input('enter a number:'))\n",
    "num2 = int (input('enter a number:'))\n",
    "num3 = int(input('inter a number:'))\n",
    "if (num1>num2) and ( num2>num3):\n",
    "    print(num1, 'in the maximum number')\n",
    "elif (num2>num1) and (num2>num3):\n",
    "    print (num2, 'in the maximum number')\n",
    "else:\n",
    "    print (num3, 'in the maximum number')"
   ]
  },
  {
   "cell_type": "markdown",
   "id": "70e90d93",
   "metadata": {},
   "source": [
    "8. Write a program that determines if a year is a leap year or not."
   ]
  },
  {
   "cell_type": "code",
   "execution_count": 8,
   "id": "717d153c",
   "metadata": {},
   "outputs": [
    {
     "name": "stdout",
     "output_type": "stream",
     "text": [
      "inter a year2000\n",
      "2000 is a leap year\n"
     ]
    }
   ],
   "source": [
    "year = int(input('inter a year'))\n",
    "if( year % 400 == 0) and (year % 100 == 0):\n",
    "        print(year,'is a leap year')\n",
    "elif (year % 4 == 0) and (year % 100 != 0):\n",
    "    print(year,'is a leap year')\n",
    "else :\n",
    "    print(year,'is not a leap year')"
   ]
  },
  {
   "cell_type": "code",
   "execution_count": 9,
   "id": "cec26ef1",
   "metadata": {},
   "outputs": [
    {
     "name": "stdout",
     "output_type": "stream",
     "text": [
      "inter a year2022\n",
      "2022 is not a leap year\n"
     ]
    }
   ],
   "source": [
    "year = int(input('inter a year'))\n",
    "if( year % 400 == 0) and (year % 100 == 0):\n",
    "        print(year,'is a leap year')\n",
    "elif (year % 4 == 0) and (year % 100 != 0):\n",
    "    print(year,'is a leap year')\n",
    "else :\n",
    "    print(year,'is not a leap year')"
   ]
  },
  {
   "cell_type": "markdown",
   "id": "cd00541a",
   "metadata": {},
   "source": [
    "9. Write a program that determines if a number is positive, negative, or zero."
   ]
  },
  {
   "cell_type": "code",
   "execution_count": 10,
   "id": "e6a91cfa",
   "metadata": {},
   "outputs": [
    {
     "name": "stdout",
     "output_type": "stream",
     "text": [
      "Enter a number as input value: 12\n",
      "Number given by you is Positive\n"
     ]
    }
   ],
   "source": [
    "a = float(input(\"Enter a number as input value: \"))  \n",
    "if a > 0:   \n",
    "    print(\"Number given by you is Positive\")  \n",
    "elif a == 0:   \n",
    "    print(\"Number given by you is zero\")\n",
    "else:   \n",
    "    print(\"Number given by you is  Negative\")  "
   ]
  },
  {
   "cell_type": "code",
   "execution_count": 11,
   "id": "092858ca",
   "metadata": {},
   "outputs": [
    {
     "name": "stdout",
     "output_type": "stream",
     "text": [
      "Enter a number as input value: -15\n",
      "Number given by you is  Negative\n"
     ]
    }
   ],
   "source": [
    "a = float(input(\"Enter a number as input value: \"))  \n",
    "if a > 0:   \n",
    "    print(\"Number given by you is Positive\")  \n",
    "elif a == 0:   \n",
    "    print(\"Number given by you is zero\")\n",
    "else:   \n",
    "    print(\"Number given by you is  Negative\")  "
   ]
  },
  {
   "cell_type": "code",
   "execution_count": 12,
   "id": "77fce9a1",
   "metadata": {},
   "outputs": [
    {
     "name": "stdout",
     "output_type": "stream",
     "text": [
      "Enter a number as input value: 0\n",
      "Number given by you is zero\n"
     ]
    }
   ],
   "source": [
    "a = float(input(\"Enter a number as input value: \"))  \n",
    "if a > 0:   \n",
    "    print(\"Number given by you is Positive\")  \n",
    "elif a == 0:   \n",
    "    print(\"Number given by you is zero\")\n",
    "else:   \n",
    "    print(\"Number given by you is  Negative\")  "
   ]
  },
  {
   "cell_type": "markdown",
   "id": "d68ccde5",
   "metadata": {},
   "source": [
    "10. Write a program that calculates the grade based on a given percentage."
   ]
  },
  {
   "cell_type": "code",
   "execution_count": 16,
   "id": "4cd7167f",
   "metadata": {},
   "outputs": [
    {
     "name": "stdout",
     "output_type": "stream",
     "text": [
      "Enter marks of the first subject: 90\n",
      "Enter marks of the second subject: 95\n",
      "Enter marks of the third subject: 92\n",
      "Enter marks of the fourth subject: 93\n",
      "Enter marks of the fifth subject: 96\n",
      "Grade: A\n"
     ]
    }
   ],
   "source": [
    "sub1=int(input(\"Enter marks of the first subject: \"))\n",
    "sub2=int(input(\"Enter marks of the second subject: \"))\n",
    "sub3=int(input(\"Enter marks of the third subject: \"))\n",
    "sub4=int(input(\"Enter marks of the fourth subject: \"))\n",
    "sub5=int(input(\"Enter marks of the fifth subject: \"))\n",
    "avg=(sub1+sub2+sub3+sub4+sub5)/5\n",
    "if(avg>=90):\n",
    "    print(\"Grade: A\")\n",
    "elif(avg>=80&avg<90):\n",
    "    print(\"Grade: B\")\n",
    "elif(avg>=70&avg<80):\n",
    "    print(\"Grade: C\")\n",
    "elif(avg>=60&avg<70):\n",
    "    print(\"Grade: D\")\n",
    "else:\n",
    "    print(\"Grade: F\")"
   ]
  },
  {
   "cell_type": "markdown",
   "id": "2234081e",
   "metadata": {},
   "source": [
    "# For Loop"
   ]
  },
  {
   "cell_type": "markdown",
   "id": "a4f919db",
   "metadata": {},
   "source": [
    "11. Write a program that prints the first `n` natural numbers."
   ]
  },
  {
   "cell_type": "code",
   "execution_count": 20,
   "id": "b6806ab2",
   "metadata": {},
   "outputs": [
    {
     "name": "stdout",
     "output_type": "stream",
     "text": [
      "Enter a number: 100\n",
      "The sum is 5050\n"
     ]
    }
   ],
   "source": [
    "num = int(input(\"Enter a number: \"))  \n",
    "  \n",
    "if num < 0:  \n",
    "   print(\"Enter a positive number\")  \n",
    "else:  \n",
    "   sum = 0  \n",
    "   while(num > 0):  \n",
    "       sum += num  \n",
    "       num -= 1  \n",
    "   print(\"The sum is\",sum)  "
   ]
  },
  {
   "cell_type": "markdown",
   "id": "234ad799",
   "metadata": {},
   "source": [
    "12. Write a program that calculates the factorial of a number."
   ]
  },
  {
   "cell_type": "code",
   "execution_count": 21,
   "id": "585def4f",
   "metadata": {},
   "outputs": [
    {
     "name": "stdout",
     "output_type": "stream",
     "text": [
      "Enter a number: 10\n",
      "The factorial of 10 is 3628800\n"
     ]
    }
   ],
   "source": [
    "num = int(input(\"Enter a number: \"))    \n",
    "factorial = 1    \n",
    "if num < 0:    \n",
    "   print(\" Factorial does not exist for negative numbers\")    \n",
    "elif num == 0:    \n",
    "   print(\"The factorial of 0 is 1\")    \n",
    "else:    \n",
    "   for i in range(1,num + 1):    \n",
    "       factorial = factorial*i    \n",
    "   print(\"The factorial of\",num,\"is\",factorial)    "
   ]
  },
  {
   "cell_type": "markdown",
   "id": "e365e54a",
   "metadata": {},
   "source": [
    "13. Write a program that generates a Fibonacci sequence of length `n`."
   ]
  },
  {
   "cell_type": "code",
   "execution_count": 22,
   "id": "9ed04e21",
   "metadata": {},
   "outputs": [
    {
     "name": "stdout",
     "output_type": "stream",
     "text": [
      "How many terms the user wants to print? 10\n",
      "The fibonacci sequence of the numbers is:\n",
      "0\n",
      "1\n",
      "1\n",
      "2\n",
      "3\n",
      "5\n",
      "8\n",
      "13\n",
      "21\n",
      "34\n"
     ]
    }
   ],
   "source": [
    "n_terms = int(input (\"How many terms the user wants to print? \"))  \n",
    "  \n",
    "  \n",
    "n_1 = 0  \n",
    "n_2 = 1  \n",
    "count = 0  \n",
    "  \n",
    "  \n",
    "if n_terms <= 0:  \n",
    "    print (\"Please enter a positive integer, the given number is not valid\")  \n",
    " \n",
    "elif n_terms == 1:  \n",
    "    print (\"The Fibonacci sequence of the numbers up to\", n_terms, \": \")  \n",
    "    print(n_1)  \n",
    "\n",
    "else:  \n",
    "    print (\"The fibonacci sequence of the numbers is:\")  \n",
    "    while count < n_terms:  \n",
    "        print(n_1)  \n",
    "        nth = n_1 + n_2  \n",
    "     \n",
    "        n_1 = n_2  \n",
    "        n_2 = nth  \n",
    "        count += 1  "
   ]
  },
  {
   "cell_type": "markdown",
   "id": "032a71eb",
   "metadata": {},
   "source": [
    "14. Write a program that checks if a given number is prime or not."
   ]
  },
  {
   "cell_type": "code",
   "execution_count": 23,
   "id": "e9cdb34d",
   "metadata": {},
   "outputs": [
    {
     "name": "stdout",
     "output_type": "stream",
     "text": [
      "Please, Enter the Lowest Range Value: 10\n",
      "Please, Enter the Upper Range Value: 15\n",
      "The Prime Numbers in the range are: \n",
      "11\n",
      "13\n"
     ]
    }
   ],
   "source": [
    "lower_value = int(input (\"Please, Enter the Lowest Range Value: \"))  \n",
    "upper_value = int(input (\"Please, Enter the Upper Range Value: \"))  \n",
    "  \n",
    "print (\"The Prime Numbers in the range are: \")  \n",
    "for number in range (lower_value, upper_value + 1):  \n",
    "    if number > 1:  \n",
    "        for i in range (2, number):  \n",
    "            if (number % i) == 0:  \n",
    "                break  \n",
    "        else:  \n",
    "            print (number)  "
   ]
  },
  {
   "cell_type": "markdown",
   "id": "c6893a62",
   "metadata": {},
   "source": [
    "15. Write a program that prints the multiplication table of a given number."
   ]
  },
  {
   "cell_type": "code",
   "execution_count": 24,
   "id": "cc45bb8a",
   "metadata": {},
   "outputs": [
    {
     "name": "stdout",
     "output_type": "stream",
     "text": [
      "Enter the number of which the user wants to print the multiplication table: 10\n",
      "The Multiplication Table of:  10\n",
      "10 x 1 = 10\n",
      "10 x 2 = 20\n",
      "10 x 3 = 30\n",
      "10 x 4 = 40\n",
      "10 x 5 = 50\n",
      "10 x 6 = 60\n",
      "10 x 7 = 70\n",
      "10 x 8 = 80\n",
      "10 x 9 = 90\n",
      "10 x 10 = 100\n"
     ]
    }
   ],
   "source": [
    "number = int(input (\"Enter the number of which the user wants to print the multiplication table: \"))      \n",
    "      \n",
    "print (\"The Multiplication Table of: \", number)    \n",
    "for count in range(1, 11):      \n",
    "   print (number, 'x', count, '=', number * count)    "
   ]
  },
  {
   "cell_type": "markdown",
   "id": "2de92b65",
   "metadata": {},
   "source": [
    "# While Loop"
   ]
  },
  {
   "cell_type": "markdown",
   "id": "f8bbb9bf",
   "metadata": {},
   "source": [
    "16. Write a program that finds the sum of all even numbers between 1 and `n`."
   ]
  },
  {
   "cell_type": "code",
   "execution_count": 25,
   "id": "d1036971",
   "metadata": {},
   "outputs": [
    {
     "name": "stdout",
     "output_type": "stream",
     "text": [
      "Enter any number: 10\n",
      "Sum of all even numbers from 1 to 10 is:  30\n"
     ]
    }
   ],
   "source": [
    "n = int(input('Enter any number: '))  \n",
    "def fun(n):  \n",
    "    sum = 0  \n",
    "    i = 2  \n",
    "    while i <= n:  \n",
    "        sum += i  \n",
    "        i = i + 2  \n",
    "    return sum  \n",
    "print(\"Sum of all even numbers from 1 to\", n , \"is: \" , fun(n))  \n"
   ]
  },
  {
   "cell_type": "markdown",
   "id": "284e8b19",
   "metadata": {},
   "source": [
    "17. Write a program that reverses a given number."
   ]
  },
  {
   "cell_type": "code",
   "execution_count": 27,
   "id": "105b7328",
   "metadata": {},
   "outputs": [
    {
     "name": "stdout",
     "output_type": "stream",
     "text": [
      "Enter the prime number?10\n",
      "Twisted Prime\n"
     ]
    }
   ],
   "source": [
    "n=int(input(\"Enter the prime number?\"))  \n",
    "rev=0  \n",
    "flag=0  \n",
    "while(n>0):  \n",
    "    dig=n%10  \n",
    "    rev=rev*10+dig  \n",
    "    n=n//10  \n",
    "for j in range(2, rev//2):  \n",
    "    if ((rev % j) == 0):  \n",
    "        flag = 1  \n",
    "        break  \n",
    "if (flag == 0):  \n",
    "    print(\"Twisted Prime\")  \n",
    "else:  \n",
    "    print(\"Not Twisted Prime\")  "
   ]
  },
  {
   "cell_type": "markdown",
   "id": "49e639c1",
   "metadata": {},
   "source": [
    "18. Write a program that checks if a given string is a palindrome."
   ]
  },
  {
   "cell_type": "code",
   "execution_count": 28,
   "id": "f8c765dd",
   "metadata": {},
   "outputs": [
    {
     "name": "stdout",
     "output_type": "stream",
     "text": [
      "Given string is palindrome\n"
     ]
    }
   ],
   "source": [
    "string = \"Kayak\";  \n",
    "flag = True;   \n",
    "   \n",
    "string = string.lower();  \n",
    "     \n",
    "for i in range(0, len(string)//2):  \n",
    "    if(string[i] != string[len(string)-i-1]):  \n",
    "        flag = False;  \n",
    "        break;  \n",
    "   \n",
    "if(flag):  \n",
    "    print(\"Given string is palindrome\");  \n",
    "else:  \n",
    "    print(\"Given string is not a palindrome\");  "
   ]
  },
  {
   "cell_type": "markdown",
   "id": "71e84545",
   "metadata": {},
   "source": [
    "19. Write a program that generates a random number and allows the user to guess it."
   ]
  },
  {
   "cell_type": "code",
   "execution_count": 29,
   "id": "259428b4",
   "metadata": {},
   "outputs": [
    {
     "name": "stdout",
     "output_type": "stream",
     "text": [
      "First random number of length 3 is:  723\n",
      "Second random number of length 3 is:  991\n"
     ]
    }
   ],
   "source": [
    "import random  \n",
    "number1 = random.randrange(100, 1000)  \n",
    "print(\"First random number of length 3 is: \", number1)  \n",
    "number2 = random.randrange(100, 1000)  \n",
    "print(\"Second random number of length 3 is: \", number2)  "
   ]
  },
  {
   "cell_type": "markdown",
   "id": "764c2245",
   "metadata": {},
   "source": [
    "20. Write a program that finds the greatest common divisor (GCD) of two numbers."
   ]
  },
  {
   "cell_type": "code",
   "execution_count": 31,
   "id": "14eb3905",
   "metadata": {},
   "outputs": [
    {
     "name": "stdout",
     "output_type": "stream",
     "text": [
      " Enter the first number: 144\n",
      " Enter the second number: 244\n",
      "  The HCF of two number a and b is \n",
      "144\n"
     ]
    }
   ],
   "source": [
    "def find_hcf(a,b):  \n",
    "    while(b):  \n",
    "        a, a = b, a % b  \n",
    "        return a  \n",
    "a = int(input (\" Enter the first number: \") )    \n",
    "b = int(input (\" Enter the second number: \"))\n",
    "num = find_hcf(a, b)\n",
    "print(\"  The HCF of two number a and b is \")  \n",
    "print(num)"
   ]
  },
  {
   "cell_type": "code",
   "execution_count": null,
   "id": "41cf84eb",
   "metadata": {},
   "outputs": [],
   "source": []
  }
 ],
 "metadata": {
  "kernelspec": {
   "display_name": "Python 3 (ipykernel)",
   "language": "python",
   "name": "python3"
  },
  "language_info": {
   "codemirror_mode": {
    "name": "ipython",
    "version": 3
   },
   "file_extension": ".py",
   "mimetype": "text/x-python",
   "name": "python",
   "nbconvert_exporter": "python",
   "pygments_lexer": "ipython3",
   "version": "3.11.5"
  }
 },
 "nbformat": 4,
 "nbformat_minor": 5
}
